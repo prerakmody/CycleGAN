{
 "cells": [
  {
   "cell_type": "code",
   "execution_count": null,
   "metadata": {
    "ExecuteTime": {
     "start_time": "2017-11-29T08:24:58.972Z"
    },
    "collapsed": false
   },
   "outputs": [
    {
     "name": "stdout",
     "output_type": "stream",
     "text": [
      "\n",
      " =========== nvidia-smi ========== \n",
      "Query for existing PIDs using GPU : nvidia-smi --query-compute-apps=pid --format=csv,noheader\n",
      " --->  []\n",
      "TensorFlow Devices: /cpu:0\n",
      "TensorFlow Devices: /gpu:0\n",
      "\n",
      "\n"
     ]
    }
   ],
   "source": [
    "import os\n",
    "import sys\n",
    "sys.path.insert(0, '../')\n",
    "import src.utils as utils\n",
    "if utils.check_gpu(verbose = 0):\n",
    "    import src.main as main\n",
    "else:\n",
    "    import sys\n",
    "    sys.exit()"
   ]
  },
  {
   "cell_type": "code",
   "execution_count": null,
   "metadata": {
    "ExecuteTime": {
     "start_time": "2017-11-29T08:24:58.988Z"
    },
    "collapsed": false
   },
   "outputs": [
    {
     "name": "stdout",
     "output_type": "stream",
     "text": [
      "Folders: ['testB', 'trainB', 'trainA', 'testA']\n",
      "1. Loading input data ...\n",
      " ---> TrainA : 995 images ---- TrainB 995 images\n",
      " ---> pattern_A :  /home/strider/Downloads/data/input/apple2orange/trainA/*.jpg\n",
      " ---> pattern_B :  /home/strider/Downloads/data/input/apple2orange/trainB/*.jpg\n",
      "1. Loaded input data\n",
      "2. Building Model ...\n",
      "2. Built Model ...\n",
      "3. Setting up loss functions ... \n",
      "3. Setup loss functons\n",
      "4. Initializing Global Variables ... \n",
      "4. Initialized Global Variables\n",
      "5. Processing input data ...\n",
      "6. Processed input data\n",
      "Training Begins. Epochs: <tf.Variable 'global_step:0' shape=() dtype=int32_ref>\n",
      "Epoch --------------------------->  0  (Time Elapsed: 0 s)\n",
      "Iteration -------->  0  (Time Elapsed: 10 s)  (Batch Avg Time: 0.0 s)\n",
      "Iteration -------->  10  (Time Elapsed: 57 s)  (Batch Avg Time: 4.7 s)\n",
      "Iteration -------->  20  (Time Elapsed: 101 s)  (Batch Avg Time: 4.4 s)\n",
      "Iteration -------->  30  (Time Elapsed: 145 s)  (Batch Avg Time: 4.4 s)\n",
      "Iteration -------->  40  (Time Elapsed: 189 s)  (Batch Avg Time: 4.4 s)\n",
      "Iteration -------->  50  (Time Elapsed: 232 s)  (Batch Avg Time: 4.4 s)\n",
      "Iteration -------->  60  (Time Elapsed: 276 s)  (Batch Avg Time: 4.4 s)\n",
      "Iteration -------->  70  (Time Elapsed: 320 s)  (Batch Avg Time: 4.4 s)\n",
      "Iteration -------->  80  (Time Elapsed: 364 s)  (Batch Avg Time: 4.4 s)\n",
      "Iteration -------->  90  (Time Elapsed: 407 s)  (Batch Avg Time: 4.4 s)\n",
      "Epoch --------------------------->  1  (Time Elapsed: 452 s)\n",
      "Iteration -------->  0  (Time Elapsed: 461 s)  (Batch Avg Time: 0.0 s)\n",
      "Iteration -------->  10  (Time Elapsed: 504 s)  (Batch Avg Time: 4.4 s)\n",
      "Iteration -------->  20  (Time Elapsed: 548 s)  (Batch Avg Time: 4.4 s)\n",
      "Iteration -------->  30  (Time Elapsed: 592 s)  (Batch Avg Time: 4.4 s)\n",
      "Iteration -------->  40  (Time Elapsed: 636 s)  (Batch Avg Time: 4.4 s)\n",
      "Iteration -------->  50  (Time Elapsed: 680 s)  (Batch Avg Time: 4.4 s)\n",
      "Iteration -------->  60  (Time Elapsed: 723 s)  (Batch Avg Time: 4.4 s)\n",
      "Iteration -------->  70  (Time Elapsed: 767 s)  (Batch Avg Time: 4.4 s)\n",
      "Iteration -------->  80  (Time Elapsed: 811 s)  (Batch Avg Time: 4.4 s)\n",
      "Iteration -------->  90  (Time Elapsed: 855 s)  (Batch Avg Time: 4.4 s)\n",
      "Epoch --------------------------->  2  (Time Elapsed: 899 s)\n",
      "Iteration -------->  0  (Time Elapsed: 908 s)  (Batch Avg Time: 0.0 s)\n",
      "Iteration -------->  10  (Time Elapsed: 952 s)  (Batch Avg Time: 4.4 s)\n",
      "Iteration -------->  20  (Time Elapsed: 996 s)  (Batch Avg Time: 4.4 s)\n",
      "Iteration -------->  30  (Time Elapsed: 1040 s)  (Batch Avg Time: 4.4 s)\n",
      "Iteration -------->  40  (Time Elapsed: 1083 s)  (Batch Avg Time: 4.4 s)\n",
      "Iteration -------->  50  (Time Elapsed: 1127 s)  (Batch Avg Time: 4.4 s)\n",
      "Iteration -------->  60  (Time Elapsed: 1171 s)  (Batch Avg Time: 4.4 s)\n",
      "Iteration -------->  70  (Time Elapsed: 1215 s)  (Batch Avg Time: 4.4 s)\n",
      "Iteration -------->  80  (Time Elapsed: 1259 s)  (Batch Avg Time: 4.4 s)\n",
      "Iteration -------->  90  (Time Elapsed: 1302 s)  (Batch Avg Time: 4.4 s)\n",
      "Epoch --------------------------->  3  (Time Elapsed: 1347 s)\n",
      "Iteration -------->  0  (Time Elapsed: 1356 s)  (Batch Avg Time: 0.0 s)\n",
      "Iteration -------->  10  (Time Elapsed: 1399 s)  (Batch Avg Time: 4.4 s)\n",
      "Iteration -------->  20  (Time Elapsed: 1443 s)  (Batch Avg Time: 4.4 s)\n",
      "Iteration -------->  30  (Time Elapsed: 1487 s)  (Batch Avg Time: 4.4 s)\n",
      "Iteration -------->  40  (Time Elapsed: 1530 s)  (Batch Avg Time: 4.4 s)\n",
      "Iteration -------->  50  (Time Elapsed: 1574 s)  (Batch Avg Time: 4.4 s)\n",
      "Iteration -------->  60  (Time Elapsed: 1618 s)  (Batch Avg Time: 4.4 s)\n",
      "Iteration -------->  70  (Time Elapsed: 1662 s)  (Batch Avg Time: 4.4 s)\n",
      "Iteration -------->  80  (Time Elapsed: 1705 s)  (Batch Avg Time: 4.4 s)\n",
      "Iteration -------->  90  (Time Elapsed: 1749 s)  (Batch Avg Time: 4.4 s)\n",
      "Epoch --------------------------->  4  (Time Elapsed: 1794 s)\n",
      "Iteration -------->  0  (Time Elapsed: 1803 s)  (Batch Avg Time: 0.0 s)\n",
      "Iteration -------->  10  (Time Elapsed: 1847 s)  (Batch Avg Time: 4.4 s)\n",
      "Iteration -------->  20  (Time Elapsed: 1891 s)  (Batch Avg Time: 4.4 s)\n",
      "Iteration -------->  30  (Time Elapsed: 1934 s)  (Batch Avg Time: 4.4 s)\n",
      "Iteration -------->  40  (Time Elapsed: 1978 s)  (Batch Avg Time: 4.4 s)\n",
      "Iteration -------->  50  (Time Elapsed: 2022 s)  (Batch Avg Time: 4.4 s)\n",
      "Iteration -------->  60  (Time Elapsed: 2066 s)  (Batch Avg Time: 4.4 s)\n",
      "Iteration -------->  70  (Time Elapsed: 2110 s)  (Batch Avg Time: 4.4 s)\n",
      "Iteration -------->  80  (Time Elapsed: 2153 s)  (Batch Avg Time: 4.4 s)\n",
      "Iteration -------->  90  (Time Elapsed: 2197 s)  (Batch Avg Time: 4.4 s)\n",
      "Epoch --------------------------->  5  (Time Elapsed: 2241 s)\n",
      "Iteration -------->  0  (Time Elapsed: 2250 s)  (Batch Avg Time: 0.0 s)\n",
      "Iteration -------->  10  (Time Elapsed: 2294 s)  (Batch Avg Time: 4.4 s)\n",
      "Iteration -------->  20  (Time Elapsed: 2338 s)  (Batch Avg Time: 4.4 s)\n",
      "Iteration -------->  30  (Time Elapsed: 2382 s)  (Batch Avg Time: 4.4 s)\n",
      "Iteration -------->  40  (Time Elapsed: 2425 s)  (Batch Avg Time: 4.4 s)\n",
      "Iteration -------->  50  (Time Elapsed: 2469 s)  (Batch Avg Time: 4.4 s)\n",
      "Iteration -------->  60  (Time Elapsed: 2513 s)  (Batch Avg Time: 4.4 s)\n",
      "Iteration -------->  70  (Time Elapsed: 2557 s)  (Batch Avg Time: 4.4 s)\n",
      "Iteration -------->  80  (Time Elapsed: 2600 s)  (Batch Avg Time: 4.4 s)\n",
      "Iteration -------->  90  (Time Elapsed: 2644 s)  (Batch Avg Time: 4.4 s)\n",
      "Epoch --------------------------->  6  (Time Elapsed: 2688 s)\n",
      "Iteration -------->  0  (Time Elapsed: 2697 s)  (Batch Avg Time: 0.0 s)\n",
      "Iteration -------->  10  (Time Elapsed: 2741 s)  (Batch Avg Time: 4.4 s)\n",
      "Iteration -------->  20  (Time Elapsed: 2785 s)  (Batch Avg Time: 4.4 s)\n",
      "Iteration -------->  30  (Time Elapsed: 2829 s)  (Batch Avg Time: 4.4 s)\n",
      "Iteration -------->  40  (Time Elapsed: 2873 s)  (Batch Avg Time: 4.4 s)\n",
      "Iteration -------->  50  (Time Elapsed: 2916 s)  (Batch Avg Time: 4.4 s)\n",
      "Iteration -------->  60  (Time Elapsed: 2960 s)  (Batch Avg Time: 4.4 s)\n",
      "Iteration -------->  70  (Time Elapsed: 3004 s)  (Batch Avg Time: 4.4 s)\n",
      "Iteration -------->  80  (Time Elapsed: 3048 s)  (Batch Avg Time: 4.4 s)\n",
      "Iteration -------->  90  (Time Elapsed: 3092 s)  (Batch Avg Time: 4.4 s)\n",
      "Epoch --------------------------->  7  (Time Elapsed: 3136 s)\n",
      "Iteration -------->  0  (Time Elapsed: 3145 s)  (Batch Avg Time: 0.0 s)\n",
      "Iteration -------->  10  (Time Elapsed: 3189 s)  (Batch Avg Time: 4.4 s)\n",
      "Iteration -------->  20  (Time Elapsed: 3233 s)  (Batch Avg Time: 4.4 s)\n",
      "Iteration -------->  30  (Time Elapsed: 3277 s)  (Batch Avg Time: 4.4 s)\n",
      "Iteration -------->  40  (Time Elapsed: 3320 s)  (Batch Avg Time: 4.4 s)\n",
      "Iteration -------->  50  (Time Elapsed: 3364 s)  (Batch Avg Time: 4.4 s)\n",
      "Iteration -------->  60  (Time Elapsed: 3408 s)  (Batch Avg Time: 4.4 s)\n",
      "Iteration -------->  70  (Time Elapsed: 3452 s)  (Batch Avg Time: 4.4 s)\n",
      "Iteration -------->  80  (Time Elapsed: 3495 s)  (Batch Avg Time: 4.4 s)\n",
      "Iteration -------->  90  (Time Elapsed: 3539 s)  (Batch Avg Time: 4.4 s)\n",
      "Epoch --------------------------->  8  (Time Elapsed: 3584 s)\n",
      "Iteration -------->  0  (Time Elapsed: 3593 s)  (Batch Avg Time: 0.0 s)\n",
      "Iteration -------->  10  (Time Elapsed: 3637 s)  (Batch Avg Time: 4.4 s)\n",
      "Iteration -------->  20  (Time Elapsed: 3681 s)  (Batch Avg Time: 4.4 s)\n",
      "Iteration -------->  30  (Time Elapsed: 3725 s)  (Batch Avg Time: 4.4 s)\n",
      "Iteration -------->  40  (Time Elapsed: 3769 s)  (Batch Avg Time: 4.4 s)\n",
      "Iteration -------->  50  (Time Elapsed: 3812 s)  (Batch Avg Time: 4.4 s)\n",
      "Iteration -------->  60  (Time Elapsed: 3856 s)  (Batch Avg Time: 4.4 s)\n",
      "Iteration -------->  70  (Time Elapsed: 3900 s)  (Batch Avg Time: 4.4 s)\n",
      "Iteration -------->  80  (Time Elapsed: 3944 s)  (Batch Avg Time: 4.4 s)\n",
      "Iteration -------->  90  (Time Elapsed: 3987 s)  (Batch Avg Time: 4.4 s)\n",
      "Epoch --------------------------->  9  (Time Elapsed: 4032 s)\n",
      "Iteration -------->  0  (Time Elapsed: 4041 s)  (Batch Avg Time: 0.0 s)\n",
      "Iteration -------->  10  (Time Elapsed: 4084 s)  (Batch Avg Time: 4.4 s)\n",
      "Iteration -------->  20  (Time Elapsed: 4128 s)  (Batch Avg Time: 4.4 s)\n",
      "Iteration -------->  30  (Time Elapsed: 4172 s)  (Batch Avg Time: 4.4 s)\n",
      "Iteration -------->  40  (Time Elapsed: 4216 s)  (Batch Avg Time: 4.4 s)\n",
      "Iteration -------->  50  (Time Elapsed: 4259 s)  (Batch Avg Time: 4.4 s)\n"
     ]
    }
   ],
   "source": [
    "import os\n",
    "\n",
    "root = os.path.abspath(os.path.join(os.getcwd(),'../'))\n",
    "src_folder = os.path.join(root,'data/input/apple2orange/')\n",
    "# src_folder = '/home/strider/Downloads/data/input/apple2orange'\n",
    "\n",
    "if os.listdir(src_folder):\n",
    "    print ('Folders:', os.listdir(src_folder))\n",
    "    model = main.CycleGAN()\n",
    "    model.train(src_folder)\n",
    "\n",
    "    "
   ]
  },
  {
   "cell_type": "code",
   "execution_count": null,
   "metadata": {
    "collapsed": true
   },
   "outputs": [],
   "source": []
  }
 ],
 "metadata": {
  "anaconda-cloud": {},
  "kernelspec": {
   "display_name": "Python [default]",
   "language": "python",
   "name": "python3"
  },
  "language_info": {
   "codemirror_mode": {
    "name": "ipython",
    "version": 3
   },
   "file_extension": ".py",
   "mimetype": "text/x-python",
   "name": "python",
   "nbconvert_exporter": "python",
   "pygments_lexer": "ipython3",
   "version": "3.5.2"
  },
  "varInspector": {
   "cols": {
    "lenName": 16,
    "lenType": 16,
    "lenVar": 40
   },
   "kernels_config": {
    "python": {
     "delete_cmd_postfix": "",
     "delete_cmd_prefix": "del ",
     "library": "var_list.py",
     "varRefreshCmd": "print(var_dic_list())"
    },
    "r": {
     "delete_cmd_postfix": ") ",
     "delete_cmd_prefix": "rm(",
     "library": "var_list.r",
     "varRefreshCmd": "cat(var_dic_list()) "
    }
   },
   "types_to_exclude": [
    "module",
    "function",
    "builtin_function_or_method",
    "instance",
    "_Feature"
   ],
   "window_display": false
  },
  "widgets": {
   "state": {
    "5d496d0d0bc545fba2773153ef517986": {
     "views": [
      {
       "cell_index": 1
      }
     ]
    }
   },
   "version": "1.2.0"
  }
 },
 "nbformat": 4,
 "nbformat_minor": 1
}
